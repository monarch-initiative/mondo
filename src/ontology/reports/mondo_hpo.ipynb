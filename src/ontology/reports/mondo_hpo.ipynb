{
 "cells": [
  {
   "cell_type": "code",
   "execution_count": 2,
   "metadata": {},
   "outputs": [],
   "source": [
    "import pandas as pd"
   ]
  },
  {
   "cell_type": "markdown",
   "metadata": {},
   "source": [
    "This report is responsible for [Mondo HPO Google Spreadsheet generation](https://github.com/monarch-initiative/mondo/issues/7359) "
   ]
  },
  {
   "cell_type": "code",
   "execution_count": 9,
   "metadata": {},
   "outputs": [
    {
     "name": "stdout",
     "output_type": "stream",
     "text": [
      "latest: Pulling from obolibrary/odkfull\n",
      "Digest: sha256:40dd8d5717db953868a6186222831612847a20a3d935d88b8cbb7ba1718f849a\n",
      "Status: Image is up to date for obolibrary/odkfull:latest\n",
      "docker.io/obolibrary/odkfull:latest\n",
      "\n",
      "\u001b[1mWhat's Next?\n",
      "\u001b[0m  View summary of image vulnerabilities and recommendations → \u001b[36mdocker scout quickview obolibrary/odkfull:latest\u001b[0m\n",
      "Running ODK with 8 GB of memory, using odkfull:latest.\n",
      "Makefile:682: warning: overriding recipe for target 'mirror-hgnc'\n",
      "Makefile:571: warning: ignoring old recipe for target 'mirror-hgnc'\n",
      "mondo.Makefile:1019: warning: overriding recipe for target 'help'\n",
      "Makefile:1394: warning: ignoring old recipe for target 'help'\n",
      "make: 'tmp/mondo-hpo-merged-lexmatch.sssom.tsv' is up to date.\n"
     ]
    }
   ],
   "source": [
    "!cd .. && ./run.sh make ./tmp/mondo-hpo-merged-lexmatch.sssom.tsv IMP=false MIR=false"
   ]
  },
  {
   "cell_type": "code",
   "execution_count": 3,
   "metadata": {},
   "outputs": [],
   "source": [
    "mondo_hpo_sssom_file=\"../tmp/mondo-hpo-merged-lexmatch.sssom.tsv\"\n",
    "mondo_hpo_sssom = pd.read_csv(mondo_hpo_sssom_file, sep='\\t', encoding='utf-8', comment='#')"
   ]
  },
  {
   "cell_type": "code",
   "execution_count": 4,
   "metadata": {},
   "outputs": [
    {
     "data": {
      "text/html": [
       "<div>\n",
       "<style scoped>\n",
       "    .dataframe tbody tr th:only-of-type {\n",
       "        vertical-align: middle;\n",
       "    }\n",
       "\n",
       "    .dataframe tbody tr th {\n",
       "        vertical-align: top;\n",
       "    }\n",
       "\n",
       "    .dataframe thead th {\n",
       "        text-align: right;\n",
       "    }\n",
       "</style>\n",
       "<table border=\"1\" class=\"dataframe\">\n",
       "  <thead>\n",
       "    <tr style=\"text-align: right;\">\n",
       "      <th></th>\n",
       "      <th>subject_id</th>\n",
       "      <th>subject_label</th>\n",
       "      <th>predicate_id</th>\n",
       "      <th>object_id</th>\n",
       "      <th>object_label</th>\n",
       "      <th>mapping_justification</th>\n",
       "      <th>mapping_tool</th>\n",
       "      <th>confidence</th>\n",
       "      <th>subject_match_field</th>\n",
       "      <th>object_match_field</th>\n",
       "      <th>match_string</th>\n",
       "    </tr>\n",
       "  </thead>\n",
       "  <tbody>\n",
       "    <tr>\n",
       "      <th>0</th>\n",
       "      <td>BFO:0000016</td>\n",
       "      <td>disposition</td>\n",
       "      <td>skos:closeMatch</td>\n",
       "      <td>PATO:0001727</td>\n",
       "      <td>disposition</td>\n",
       "      <td>semapv:LexicalMatching</td>\n",
       "      <td>oaklib</td>\n",
       "      <td>0.5</td>\n",
       "      <td>rdfs:label</td>\n",
       "      <td>rdfs:label</td>\n",
       "      <td>disposition</td>\n",
       "    </tr>\n",
       "    <tr>\n",
       "      <th>1</th>\n",
       "      <td>BFO:0000019</td>\n",
       "      <td>quality</td>\n",
       "      <td>skos:closeMatch</td>\n",
       "      <td>PATO:0000001</td>\n",
       "      <td>quality</td>\n",
       "      <td>semapv:LexicalMatching</td>\n",
       "      <td>oaklib</td>\n",
       "      <td>0.5</td>\n",
       "      <td>rdfs:label</td>\n",
       "      <td>rdfs:label</td>\n",
       "      <td>quality</td>\n",
       "    </tr>\n",
       "    <tr>\n",
       "      <th>2</th>\n",
       "      <td>BFO:0000023</td>\n",
       "      <td>role</td>\n",
       "      <td>skos:closeMatch</td>\n",
       "      <td>CHEBI:50906</td>\n",
       "      <td>role</td>\n",
       "      <td>semapv:LexicalMatching</td>\n",
       "      <td>oaklib</td>\n",
       "      <td>0.5</td>\n",
       "      <td>rdfs:label</td>\n",
       "      <td>rdfs:label</td>\n",
       "      <td>role</td>\n",
       "    </tr>\n",
       "    <tr>\n",
       "      <th>3</th>\n",
       "      <td>CHEBI:16134</td>\n",
       "      <td>ammonia</td>\n",
       "      <td>skos:closeMatch</td>\n",
       "      <td>NCBITaxon:29189</td>\n",
       "      <td>Ammonia</td>\n",
       "      <td>semapv:LexicalMatching</td>\n",
       "      <td>oaklib</td>\n",
       "      <td>0.5</td>\n",
       "      <td>rdfs:label</td>\n",
       "      <td>rdfs:label</td>\n",
       "      <td>ammonia</td>\n",
       "    </tr>\n",
       "    <tr>\n",
       "      <th>4</th>\n",
       "      <td>CHEBI:24870</td>\n",
       "      <td>ion</td>\n",
       "      <td>skos:closeMatch</td>\n",
       "      <td>MONDO:0044688</td>\n",
       "      <td>isolated optic neuritis</td>\n",
       "      <td>semapv:LexicalMatching</td>\n",
       "      <td>oaklib</td>\n",
       "      <td>0.5</td>\n",
       "      <td>rdfs:label</td>\n",
       "      <td>oio:hasExactSynonym</td>\n",
       "      <td>ion</td>\n",
       "    </tr>\n",
       "  </tbody>\n",
       "</table>\n",
       "</div>"
      ],
      "text/plain": [
       "    subject_id subject_label     predicate_id        object_id  \\\n",
       "0  BFO:0000016   disposition  skos:closeMatch     PATO:0001727   \n",
       "1  BFO:0000019       quality  skos:closeMatch     PATO:0000001   \n",
       "2  BFO:0000023          role  skos:closeMatch      CHEBI:50906   \n",
       "3  CHEBI:16134       ammonia  skos:closeMatch  NCBITaxon:29189   \n",
       "4  CHEBI:24870           ion  skos:closeMatch    MONDO:0044688   \n",
       "\n",
       "              object_label   mapping_justification mapping_tool  confidence  \\\n",
       "0              disposition  semapv:LexicalMatching       oaklib         0.5   \n",
       "1                  quality  semapv:LexicalMatching       oaklib         0.5   \n",
       "2                     role  semapv:LexicalMatching       oaklib         0.5   \n",
       "3                  Ammonia  semapv:LexicalMatching       oaklib         0.5   \n",
       "4  isolated optic neuritis  semapv:LexicalMatching       oaklib         0.5   \n",
       "\n",
       "  subject_match_field   object_match_field match_string  \n",
       "0          rdfs:label           rdfs:label  disposition  \n",
       "1          rdfs:label           rdfs:label      quality  \n",
       "2          rdfs:label           rdfs:label         role  \n",
       "3          rdfs:label           rdfs:label      ammonia  \n",
       "4          rdfs:label  oio:hasExactSynonym          ion  "
      ]
     },
     "execution_count": 4,
     "metadata": {},
     "output_type": "execute_result"
    }
   ],
   "source": [
    "mondo_hpo_sssom.head()"
   ]
  },
  {
   "cell_type": "markdown",
   "metadata": {},
   "source": [
    "The next piece of code was written in two steps because I wanted to ensure the MONDO ID and HPO ID in both conditions (when subject_id starts with HP or object_id starts with HP and the opposite way for MONDO IDs)"
   ]
  },
  {
   "cell_type": "code",
   "execution_count": 5,
   "metadata": {},
   "outputs": [],
   "source": [
    "hpo_mondo_sssom_filtered = mondo_hpo_sssom.query('(subject_id.str.startswith(\"HP:\").values & object_id.str.startswith(\"MONDO:\").values)')\n",
    "hpo_mondo_sssom_selector = {'object_id': 'mondo_id', 'object_label': 'mondo_label', 'subject_id': 'hpo_id', 'subject_label': 'hpo_label', 'mapping_justification':'justification'}\n",
    "hpo_mondo_sssom_filtered_renamed = hpo_mondo_sssom_filtered.rename(columns=hpo_mondo_sssom_selector)[[*hpo_mondo_sssom_selector.values()]]\n",
    "\n",
    "mondo_hpo_sssom_filtered = mondo_hpo_sssom.query('(subject_id.str.startswith(\"MONDO:\").values & object_id.str.startswith(\"HP:\").values)')\n",
    "mondo_hpo_sssom_selector = {'subject_id': 'mondo_id', 'subject_label': 'mondo_label', 'object_id': 'hpo_id', 'object_label': 'hpo_label', 'mapping_justification':'justification'}\n",
    "mondo_hpo_sssom_filtered_renamed = mondo_hpo_sssom_filtered.rename(columns=mondo_hpo_sssom_selector)[[*hpo_mondo_sssom_selector.values()]]\n",
    "\n",
    "mondo_hpo_sssom_filtered_combined = pd.concat([hpo_mondo_sssom_filtered_renamed, mondo_hpo_sssom_filtered_renamed])\n",
    "\n",
    "\n",
    "mondo_hpo_sssom_filtered_combined.to_csv('./mondo_hpo.tsv', sep='\\t', index=None, encoding='utf-8')"
   ]
  }
 ],
 "metadata": {
  "kernelspec": {
   "display_name": "Python 3",
   "language": "python",
   "name": "python3"
  },
  "language_info": {
   "codemirror_mode": {
    "name": "ipython",
    "version": 3
   },
   "file_extension": ".py",
   "mimetype": "text/x-python",
   "name": "python",
   "nbconvert_exporter": "python",
   "pygments_lexer": "ipython3",
   "version": "3.11.3"
  }
 },
 "nbformat": 4,
 "nbformat_minor": 4
}
