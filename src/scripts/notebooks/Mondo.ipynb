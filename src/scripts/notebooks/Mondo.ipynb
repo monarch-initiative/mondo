{
 "cells": [
  {
   "cell_type": "code",
   "execution_count": 50,
   "id": "1dbe826f-e501-4cff-ac45-35f8d55b09bf",
   "metadata": {},
   "outputs": [],
   "source": [
    "%reset -f"
   ]
  },
  {
   "cell_type": "markdown",
   "id": "ee7449b5-4256-456f-9d49-3672b9ccd298",
   "metadata": {},
   "source": [
    "# Code examples interacting with Mondo"
   ]
  },
  {
   "cell_type": "markdown",
   "id": "ce7f5732-a7d9-4423-9fcb-b78d375d6d2e",
   "metadata": {},
   "source": [
    "## Install oaklib\n",
    " - Installation of oaklib can be found in the [documentation here](https://incatools.github.io/ontology-access-kit/intro/tutorial01.html)\n",
    "   "
   ]
  },
  {
   "cell_type": "code",
   "execution_count": 2,
   "id": "c3ed93e1-4484-4763-b541-a1f62a156c3a",
   "metadata": {},
   "outputs": [
    {
     "name": "stderr",
     "output_type": "stream",
     "text": [
      "/opt/anaconda3/envs/mondo310/lib/python3.10/site-packages/tqdm/auto.py:22: TqdmWarning: IProgress not found. Please update jupyter and ipywidgets. See https://ipywidgets.readthedocs.io/en/stable/user_install.html\n",
      "  from .autonotebook import tqdm as notebook_tqdm\n"
     ]
    }
   ],
   "source": [
    "from pathlib import Path\n",
    "from oaklib import get_adapter\n",
    "from oaklib.mappers import OntologyMetadataMapper\n",
    "from oaklib.datamodels.vocabulary import IS_A, PART_OF, SEMAPV\n",
    "\n",
    "\n",
    "# Create a wrapper to connect to the mondo database. \n",
    "db_path = Path.cwd().parents[1] / \"ontology/tmp/mondo-ingest.db\"\n",
    "ontology_implementation = get_adapter(f\"sqlite:{db_path}\")\n",
    "\n",
    "\n",
    "# # Create a mapper\n",
    "# mapper = OntologyMetadataMapper([], curie_converter=ontology_implementation.converter)\n",
    "# mapper.use_skos_profile()\n",
    "# ontology_implementation.ontology_metamodel_mapper = mapper"
   ]
  },
  {
   "cell_type": "code",
   "execution_count": 9,
   "id": "4f1b73ea-f397-4220-9c44-3a44b766580b",
   "metadata": {},
   "outputs": [],
   "source": [
    "tuberculosis = \"MONDO:0018076\"\n",
    "\n",
    "all_descendants = set(ontology_implementation.descendants([tuberculosis]))\n",
    "\n",
    "# for entity in ontology_implementation.entities(filter_obsoletes=True, owl_type = \"owl:AnnotationProperty\"):\n",
    "#     print(entity)"
   ]
  },
  {
   "cell_type": "code",
   "execution_count": 6,
   "id": "45e925d0-960e-4907-8e77-774171b4a31d",
   "metadata": {},
   "outputs": [],
   "source": [
    "for ont in ontology_implementation.ontologies():\n",
    "    m = ontology_implementation.ontology_metadata_map(ont)\n"
   ]
  },
  {
   "cell_type": "code",
   "execution_count": 7,
   "id": "1fe2335c-74b4-4b05-b652-0de24d458526",
   "metadata": {},
   "outputs": [
    {
     "data": {
      "text/plain": [
       "{'id': ['obo:mondo-ingest.owl'],\n",
       " 'dct:description': ['This ontology contain different disease ontology and is created purely for alignment purposes.'],\n",
       " 'dct:license': ['<https://creativecommons.org/licenses/by/4.0/>'],\n",
       " 'dct:title': ['Mondo Disease Ontology Ingest'],\n",
       " 'owl:versionIRI': ['obo:mondo-ingest/releases/2023-04-05/mondo-ingest.owl'],\n",
       " 'owl:versionInfo': ['2023-04-05'],\n",
       " 'rdf:type': ['owl:Ontology'],\n",
       " 'sh:prefix': ['obo'],\n",
       " 'schema:url': ['http://purl.obolibrary.org/obo/mondo-ingest.owl'],\n",
       " 'rdfs:isDefinedBy': ['http://purl.obolibrary.org/obo/obo.owl']}"
      ]
     },
     "execution_count": 7,
     "metadata": {},
     "output_type": "execute_result"
    }
   ],
   "source": [
    "m"
   ]
  },
  {
   "cell_type": "code",
   "execution_count": null,
   "id": "bd63a0a9-735d-40f4-90e8-7838ea63108d",
   "metadata": {},
   "outputs": [],
   "source": []
  }
 ],
 "metadata": {
  "kernelspec": {
   "display_name": "Python 3 (ipykernel)",
   "language": "python",
   "name": "python3"
  },
  "language_info": {
   "codemirror_mode": {
    "name": "ipython",
    "version": 3
   },
   "file_extension": ".py",
   "mimetype": "text/x-python",
   "name": "python",
   "nbconvert_exporter": "python",
   "pygments_lexer": "ipython3",
   "version": "3.10.4"
  }
 },
 "nbformat": 4,
 "nbformat_minor": 5
}
