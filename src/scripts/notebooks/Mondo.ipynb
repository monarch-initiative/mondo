{
 "cells": [
  {
   "cell_type": "code",
   "execution_count": 50,
   "id": "1dbe826f-e501-4cff-ac45-35f8d55b09bf",
   "metadata": {},
   "outputs": [],
   "source": [
    "%reset -f"
   ]
  },
  {
   "cell_type": "markdown",
   "id": "ee7449b5-4256-456f-9d49-3672b9ccd298",
   "metadata": {},
   "source": [
    "# Code examples interacting with Mondo"
   ]
  },
  {
   "cell_type": "markdown",
   "id": "ce7f5732-a7d9-4423-9fcb-b78d375d6d2e",
   "metadata": {},
   "source": [
    "## Install oaklib\n",
    " - Installation of oaklib can be found in the [documentation here](https://incatools.github.io/ontology-access-kit/intro/tutorial01.html)\n",
    "   "
   ]
  },
  {
   "cell_type": "code",
   "execution_count": 86,
   "id": "c3ed93e1-4484-4763-b541-a1f62a156c3a",
   "metadata": {},
   "outputs": [
    {
     "name": "stderr",
     "output_type": "stream",
     "text": [
      "WARNING:root:No prefix map provided (not recommended), trying to use defaults..\n"
     ]
    }
   ],
   "source": [
    "from pathlib import Path\n",
    "from oaklib import get_adapter\n",
    "from oaklib.mappers import OntologyMetadataMapper\n",
    "from oaklib.datamodels.vocabulary import IS_A, PART_OF, SEMAPV\n",
    "\n",
    "\n",
    "# Create a wrapper to connect to the mondo database. \n",
    "db_path = Path.cwd().parents[1] / \"ontology/tmp/mondo-ingest.db\"\n",
    "ontology_implementation = get_adapter(f\"sqlite:{db_path}\")\n",
    "\n",
    "\n",
    "# # Create a mapper\n",
    "# mapper = OntologyMetadataMapper([], curie_converter=ontology_implementation.converter)\n",
    "# mapper.use_skos_profile()\n",
    "# ontology_implementation.ontology_metamodel_mapper = mapper"
   ]
  },
  {
   "cell_type": "code",
   "execution_count": 87,
   "id": "4f1b73ea-f397-4220-9c44-3a44b766580b",
   "metadata": {},
   "outputs": [
    {
     "name": "stdout",
     "output_type": "stream",
     "text": [
      "<http://purl.org/spar/cito/citesAsAuthority>\n",
      "<http://swrl.stanford.edu/ontologies/3.3/swrla.owl#isRuleEnabled>\n",
      "<https://w3id.org/biolink/vocab/category>\n",
      "<https://w3id.org/biolink/vocab/has_evidence>\n",
      "IAO:0000111\n",
      "IAO:0000112\n",
      "IAO:0000113\n",
      "IAO:0000114\n",
      "IAO:0000115\n",
      "IAO:0000116\n",
      "IAO:0000117\n",
      "IAO:0000118\n",
      "IAO:0000119\n",
      "IAO:0000142\n",
      "IAO:0000231\n",
      "IAO:0000232\n",
      "IAO:0000233\n",
      "IAO:0000234\n",
      "IAO:0000411\n",
      "IAO:0000412\n",
      "IAO:0000424\n",
      "IAO:0000425\n",
      "IAO:0000426\n",
      "IAO:0000427\n",
      "IAO:0000589\n",
      "IAO:0000596\n",
      "IAO:0000597\n",
      "IAO:0000598\n",
      "IAO:0000599\n",
      "IAO:0000600\n",
      "IAO:0000601\n",
      "IAO:0000602\n",
      "IAO:0000603\n",
      "IAO:0000700\n",
      "IAO:0006011\n",
      "IAO:0006012\n",
      "IAO:0010000\n",
      "IAO:0100001\n",
      "MONDO:exclusionReason\n",
      "OMO:0001001\n",
      "OMO:0002000\n",
      "RO:0001900\n",
      "RO:0002175\n",
      "RO:0002259\n",
      "RO:0002575\n",
      "RO:0002579\n",
      "RO:0002581\n",
      "RO:0002582\n",
      "RO:0004049\n",
      "RO:0004050\n",
      "RO:0040042\n",
      "dce:contributor\n",
      "dce:coverage\n",
      "dce:creator\n",
      "dce:date\n",
      "dce:description\n",
      "dce:format\n",
      "dce:identifier\n",
      "dce:language\n",
      "dce:publisher\n",
      "dce:relation\n",
      "dce:rights\n",
      "dce:source\n",
      "dce:subject\n",
      "dce:title\n",
      "dce:type\n",
      "dct:contributor\n",
      "dct:creator\n",
      "dct:description\n",
      "dct:isVersionOf\n",
      "dct:license\n",
      "dct:source\n",
      "dct:title\n",
      "foaf:homepage\n",
      "obo:ro/subsets#ro-eco\n",
      "obo:valid_for_go_annotation_extension\n",
      "obo:valid_for_go_gp2term\n",
      "obo:valid_for_go_ontology\n",
      "obo:valid_for_gocam\n",
      "oio:SubsetProperty\n",
      "oio:consider\n",
      "oio:created_by\n",
      "oio:creation_date\n",
      "oio:date\n",
      "oio:default-namespace\n",
      "oio:hasBroadSynonym\n",
      "oio:hasDbXref\n",
      "oio:hasExactSynonym\n",
      "oio:hasNarrowSynonym\n",
      "oio:hasOBOFormatVersion\n",
      "oio:hasRelatedSynonym\n",
      "oio:hasSynonymType\n",
      "oio:id\n",
      "oio:inSubset\n",
      "oio:saved-by\n",
      "oio:source\n",
      "owl:deprecated\n",
      "protege:defaultLanguage\n",
      "rdfs:comment\n",
      "rdfs:label\n",
      "rdfs:seeAlso\n",
      "skos:broadMatch\n",
      "skos:closeMatch\n",
      "skos:exactMatch\n",
      "skos:narrowMatch\n",
      "skos:relatedMatch\n"
     ]
    }
   ],
   "source": [
    "tuberculosis = \"MONDO:0018076\"\n",
    "\n",
    "all_descendants = set(ontology_implementation.descendants([tuberculosis]))\n",
    "\n",
    "for entity in ontology_implementation.entities(filter_obsoletes=True, owl_type = \"owl:AnnotationProperty\"):\n",
    "    print(entity)"
   ]
  },
  {
   "cell_type": "code",
   "execution_count": 62,
   "id": "45e925d0-960e-4907-8e77-774171b4a31d",
   "metadata": {},
   "outputs": [
    {
     "data": {
      "text/plain": [
       "[]"
      ]
     },
     "execution_count": 62,
     "metadata": {},
     "output_type": "execute_result"
    }
   ],
   "source": []
  },
  {
   "cell_type": "code",
   "execution_count": null,
   "id": "1fe2335c-74b4-4b05-b652-0de24d458526",
   "metadata": {},
   "outputs": [],
   "source": []
  }
 ],
 "metadata": {
  "kernelspec": {
   "display_name": "Python 3 (ipykernel)",
   "language": "python",
   "name": "python3"
  },
  "language_info": {
   "codemirror_mode": {
    "name": "ipython",
    "version": 3
   },
   "file_extension": ".py",
   "mimetype": "text/x-python",
   "name": "python",
   "nbconvert_exporter": "python",
   "pygments_lexer": "ipython3",
   "version": "3.10.4"
  }
 },
 "nbformat": 4,
 "nbformat_minor": 5
}
