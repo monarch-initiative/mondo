{
 "cells": [
  {
   "cell_type": "markdown",
   "id": "ee7449b5-4256-456f-9d49-3672b9ccd298",
   "metadata": {},
   "source": [
    "# Code examples for interacting with Mondo using OAK"
   ]
  },
  {
   "cell_type": "markdown",
   "id": "ce7f5732-a7d9-4423-9fcb-b78d375d6d2e",
   "metadata": {},
   "source": [
    "### OAK\n",
    "OAK, the Ontology Access Kit, is a Python library for common ontology operations and provides a variety of adapters to connect to ontologies. More information is available at: https://incatools.github.io/ontology-access-kit/index.html"
   ]
  },
  {
   "cell_type": "markdown",
   "id": "04ca725e",
   "metadata": {},
   "source": [
    "### Create a Python virtual environment or new Conda environment\n",
    "To avoid possible package dependency issues, create a new env to use this notebook. See [Getting Started](https://incatools.github.io/ontology-access-kit/intro/tutorial01.html#part-1-getting-started) with OAK for a reminder on how to create a Python environment or the [Conda Cheat Sheet](https://docs.conda.io/projects/conda/en/4.6.0/_downloads/52a95608c49671267e40c689e0bc00ca/conda-cheatsheet.pdf) for commands to create a new conda environment."
   ]
  },
  {
   "cell_type": "markdown",
   "id": "dc940507",
   "metadata": {},
   "source": [
    "### Install Python packages needed for this notebook"
   ]
  },
  {
   "cell_type": "code",
   "execution_count": null,
   "id": "5e2acff4",
   "metadata": {},
   "outputs": [],
   "source": [
    "# Install Python packages\n",
    "# !pip install oaklib"
   ]
  },
  {
   "cell_type": "code",
   "execution_count": null,
   "id": "05c7b30a",
   "metadata": {},
   "outputs": [],
   "source": [
    "# Test OAK Installation\n",
    "# !runoak --help"
   ]
  },
  {
   "cell_type": "markdown",
   "id": "9da66228",
   "metadata": {},
   "source": [
    "### Load Imports"
   ]
  },
  {
   "cell_type": "code",
   "execution_count": 1,
   "id": "faddcbe6",
   "metadata": {},
   "outputs": [],
   "source": [
    "# Load Imports\n",
    "\n",
    "from pathlib import Path\n",
    "from oaklib import get_adapter\n",
    "from oaklib.mappers import OntologyMetadataMapper\n",
    "from oaklib.datamodels.vocabulary import IS_A, PART_OF, SEMAPV"
   ]
  },
  {
   "cell_type": "markdown",
   "id": "808268d0",
   "metadata": {},
   "source": [
    "### Download a SQLite version of your ontology of interest\n",
    "There are a few options to download a SQLite version of an ontology file to use with oaklib. The examples below will demonstrate how to use an additional Python package named SemSQL (another of the INCA Tools along with OAK) and using wget. \n",
    "\n",
    "More information on how to download a SQLite ontology file can be found here: https://incatools.github.io/ontology-access-kit/intro/tutorial07.html#download-a-sqlite-file"
   ]
  },
  {
   "cell_type": "markdown",
   "id": "e70cf49e",
   "metadata": {},
   "source": [
    "### SemSQL Option"
   ]
  },
  {
   "cell_type": "code",
   "execution_count": null,
   "id": "12cc942f",
   "metadata": {},
   "outputs": [],
   "source": [
    "# SemSQL Option to download SQLite version of Mondo\n",
    "# See: https://github.com/INCATools/semantic-sql#download-ready-made-sqlite-databases\n",
    "\n",
    "# Install package\n",
    "!pip install -q semsql\n",
    "\n",
    "# Create download directory\n",
    "tmp_directory = \"./tmp\"\n",
    "ontology_db = \"mondo.db\"\n",
    "ontology = \"mondo\"\n",
    "\n",
    "# Fetch Mondo and test access to the SQLite version of the ontology\n",
    "!semsql download $ontology -o $tmp_directory/$ontology_db\n",
    "\n",
    "# Check that database file exists\n",
    "!ls -ltr $tmp_directory"
   ]
  },
  {
   "cell_type": "markdown",
   "id": "7ec1d9ac",
   "metadata": {},
   "source": [
    "### wget Option"
   ]
  },
  {
   "cell_type": "code",
   "execution_count": null,
   "id": "4bced0f5",
   "metadata": {},
   "outputs": [],
   "source": [
    "# # Wget Option to download SQLite version of Mondo - Part 1\n",
    "\n",
    "# # See https://incatools.github.io/ontology-access-kit/howtos/validate-an-obo-ontology.html#step-1-obtain-the-sqlite-version-of-the-ontology\n",
    "# # for information on how to download a SQLite version of Mondo\n",
    "\n",
    "# # Manually find file of interest from: https://s3.amazonaws.com/bbop-sqlite/\n",
    "# filename = 'mondo.db.gz'\n",
    "# url = f\"https://s3.amazonaws.com/bbop-sqlite/{filename}\"\n",
    "\n",
    "# # Create download directory\n",
    "# download_dir = './ontology_downloads'\n",
    "# !mkdir -p $download_dir\n",
    "\n",
    "# # Use wget to download the file to the specified directory\n",
    "# !wget -q $url -P $download_dir && echo \"Download complete!\""
   ]
  },
  {
   "cell_type": "code",
   "execution_count": null,
   "id": "7b5a3e38",
   "metadata": {},
   "outputs": [],
   "source": [
    "# # Wget Option - Part 2\n",
    "# # Use the unzip command to extract the contents of the zip file\n",
    "# zip_filepath = f\"{download_dir}/{filename}\"\n",
    "\n",
    "# ontology_db_file = \"mondo.db\"\n",
    "# unzipped_filepath = f\"{download_dir}/{ontology_db_file}\"\n",
    "\n",
    "# # Use gunzip to extract the contents of the gzipped file\n",
    "# !gunzip -d -c $zip_filepath > $unzipped_filepath\n",
    "\n",
    "# # Check that database file exists\n",
    "# !ls -ltr $download_dir"
   ]
  },
  {
   "cell_type": "markdown",
   "id": "f70f6b5b",
   "metadata": {},
   "source": [
    "### OAK CLI Option"
   ]
  },
  {
   "cell_type": "code",
   "execution_count": null,
   "id": "8d136e06",
   "metadata": {},
   "outputs": [],
   "source": [
    "# # OAK CLI Option \n",
    "# !runoak -i sqlite:obo:mondo ontology-metadata mondo\n",
    "\n",
    "# # NOTE: PyStow is used to cache the file, and the default location is ~/.data/oaklib.\n",
    "# # https://incatools.github.io/ontology-access-kit/intro/tutorial07.html#fetching-ready-made-sqlite-files\n",
    "# !ls ~/.data/oaklib"
   ]
  },
  {
   "cell_type": "markdown",
   "id": "c9b7891d",
   "metadata": {},
   "source": [
    "### Create an adapter to connect to the SQLite ontology database file"
   ]
  },
  {
   "cell_type": "code",
   "execution_count": 4,
   "id": "70a7bc38",
   "metadata": {},
   "outputs": [
    {
     "data": {
      "application/vnd.jupyter.widget-view+json": {
       "model_id": "",
       "version_major": 2,
       "version_minor": 0
      },
      "text/plain": [
       "Downloading mondo.db.gz: 0.00B [00:00, ?B/s]"
      ]
     },
     "metadata": {},
     "output_type": "display_data"
    }
   ],
   "source": [
    "# Create a wrapper to connect to the mondo database\n",
    "# If the ontology database file does not already exist in ~/.data/oaklib the ontolgy file will be downloaded.\n",
    "\n",
    "# db_path = <PATH-TO-YOUR-DATABASE-FILE>\n",
    "# db_path = \"./ontology_downloads/mondo.db\"\n",
    "# adapter = get_adapter(f\"sqlite:{db_path}\")\n",
    "\n",
    "adapter = get_adapter(f\"sqlite:obo:mondo\")"
   ]
  },
  {
   "cell_type": "markdown",
   "id": "07911c14",
   "metadata": {},
   "source": [
    "### Check the connection and get the ontology metadata"
   ]
  },
  {
   "cell_type": "code",
   "execution_count": 5,
   "id": "45e925d0-960e-4907-8e77-774171b4a31d",
   "metadata": {},
   "outputs": [
    {
     "data": {
      "text/plain": [
       "{'id': ['obo:mondo.owl'],\n",
       " 'IAO:0000700': ['MONDO:0042489',\n",
       "  'MONDO:0021178',\n",
       "  'MONDO:0021125',\n",
       "  'MONDO:0000001'],\n",
       " 'dce:description': ['A semi-automatically constructed ontology that merges in multiple disease resources to yield a coherent merged ontology.'],\n",
       " 'dce:title': ['Mondo Disease Ontology'],\n",
       " 'dcterms:license': ['<http://creativecommons.org/licenses/by/4.0/>'],\n",
       " 'dcterms:source': ['<https://rarediseases.info.nih.gov/>',\n",
       "  '<https://id.nlm.nih.gov/mesh/>',\n",
       "  '<http://www.orpha.net/ontology/orphanet.owl>',\n",
       "  'obo:uberon.owl',\n",
       "  'obo:ncit.owl',\n",
       "  'obo:ncbitaxon.owl',\n",
       "  'obo:mf.owl',\n",
       "  'obo:hp.owl',\n",
       "  'obo:go.owl',\n",
       "  'obo:envo.owl',\n",
       "  'obo:doid.owl',\n",
       "  'obo:chebi.owl'],\n",
       " 'foaf:homepage': ['http://obofoundry.org/ontology/mondo.html'],\n",
       " 'oio:hasOBOFormatVersion': ['1.2'],\n",
       " 'owl:versionIRI': ['obo:mondo/releases/2023-09-12/mondo.owl'],\n",
       " 'rdf:type': ['owl:Ontology'],\n",
       " 'rdfs:comment': ['Includes Ontology(OntologyID(Anonymous-11)) [Axioms: 74703 Logical Axioms: 0]'],\n",
       " 'sh:prefix': ['obo'],\n",
       " 'schema:url': ['http://purl.obolibrary.org/obo/mondo.owl'],\n",
       " 'rdfs:isDefinedBy': ['http://purl.obolibrary.org/obo/obo.owl']}"
      ]
     },
     "metadata": {},
     "output_type": "display_data"
    }
   ],
   "source": [
    "# Get ontology metadata\n",
    "for ont in adapter.ontologies():\n",
    "    ontology_metadata = adapter.ontology_metadata_map(ont)\n",
    "\n",
    "# Display ontology metadata\n",
    "display(ontology_metadata)"
   ]
  },
  {
   "cell_type": "code",
   "execution_count": null,
   "id": "4f1b73ea-f397-4220-9c44-3a44b766580b",
   "metadata": {},
   "outputs": [],
   "source": [
    "# Get all descendants for a CURIE\n",
    "curie = \"MONDO:0018076\"\n",
    "\n",
    "#NOTE: The input curie (e.g. \"MONDO:0018076\") is returned from this call\n",
    "all_descendants = set(adapter.descendants([curie], predicates=[IS_A]))\n",
    "display(len(all_descendants), all_descendants)\n"
   ]
  },
  {
   "cell_type": "code",
   "execution_count": null,
   "id": "90097de5",
   "metadata": {},
   "outputs": [],
   "source": [
    "# View results for CURIE in OLS for comparison\n",
    "import webbrowser\n",
    "\n",
    "# convert curie to purl\n",
    "url = adapter.curie_to_uri(curie)\n",
    "\n",
    "# open ols browser page for purl\n",
    "webbrowser.open(url)"
   ]
  },
  {
   "cell_type": "code",
   "execution_count": null,
   "id": "c8c185c1",
   "metadata": {},
   "outputs": [],
   "source": [
    "# Get annotations for descendants\n",
    "\n",
    "for child in all_descendants:\n",
    "    print(child, adapter.label(child))"
   ]
  },
  {
   "cell_type": "code",
   "execution_count": null,
   "id": "bd63a0a9-735d-40f4-90e8-7838ea63108d",
   "metadata": {},
   "outputs": [],
   "source": [
    "# Get Ancestors\n",
    "# TODO: Convert these to helper methods that can be called while traversing through list of parents or children\n",
    "\n",
    "# for anc in db_adapter.ancestors(\"MONDO:0018076\", predicates=[IS_A]):\n",
    "#     print(anc, db_adapter.label(anc))"
   ]
  },
  {
   "cell_type": "code",
   "execution_count": 7,
   "id": "92dbaee8",
   "metadata": {},
   "outputs": [],
   "source": [
    "# Get a list of all Annotation properties used in the ontology\n",
    "\n",
    "# for entity in adapter.entities(filter_obsoletes=True, owl_type = \"owl:AnnotationProperty\"):\n",
    "#     display(entity)\n",
    "# display(entity)"
   ]
  },
  {
   "cell_type": "code",
   "execution_count": null,
   "id": "0e138b96",
   "metadata": {},
   "outputs": [],
   "source": []
  },
  {
   "cell_type": "code",
   "execution_count": null,
   "id": "bc798695",
   "metadata": {},
   "outputs": [],
   "source": []
  },
  {
   "cell_type": "code",
   "execution_count": null,
   "id": "2c564362",
   "metadata": {},
   "outputs": [],
   "source": []
  }
 ],
 "metadata": {
  "kernelspec": {
   "display_name": "Python 3 (ipykernel)",
   "language": "python",
   "name": "python3"
  },
  "language_info": {
   "codemirror_mode": {
    "name": "ipython",
    "version": 3
   },
   "file_extension": ".py",
   "mimetype": "text/x-python",
   "name": "python",
   "nbconvert_exporter": "python",
   "pygments_lexer": "ipython3",
   "version": "3.10.13"
  }
 },
 "nbformat": 4,
 "nbformat_minor": 5
}
