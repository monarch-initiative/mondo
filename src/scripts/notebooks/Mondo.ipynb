{
 "cells": [
  {
   "cell_type": "code",
   "execution_count": null,
   "id": "1dbe826f-e501-4cff-ac45-35f8d55b09bf",
   "metadata": {},
   "outputs": [],
   "source": [
    "%reset -f"
   ]
  },
  {
   "cell_type": "markdown",
   "id": "ee7449b5-4256-456f-9d49-3672b9ccd298",
   "metadata": {},
   "source": [
    "# Code examples interacting with Mondo"
   ]
  },
  {
   "cell_type": "markdown",
   "id": "ce7f5732-a7d9-4423-9fcb-b78d375d6d2e",
   "metadata": {},
   "source": [
    "## Install oaklib\n",
    " - Installation of oaklib can be found in the [documentation here](https://incatools.github.io/ontology-access-kit/intro/tutorial01.html)\n",
    "   "
   ]
  },
  {
   "cell_type": "code",
   "execution_count": null,
   "id": "e4623add",
   "metadata": {},
   "outputs": [],
   "source": [
    "# Install Python packages\n",
    "# !pip install oaklib\n",
    "# !pip install semsql"
   ]
  },
  {
   "cell_type": "code",
   "execution_count": null,
   "id": "05aba335",
   "metadata": {},
   "outputs": [],
   "source": [
    "# Test OAK Installation\n",
    "#!runoak --help"
   ]
  },
  {
   "cell_type": "code",
   "execution_count": 2,
   "id": "685c1bea",
   "metadata": {},
   "outputs": [],
   "source": [
    "# Load Imports\n",
    "\n",
    "from pathlib import Path\n",
    "from oaklib import get_adapter\n",
    "from oaklib.mappers import OntologyMetadataMapper\n",
    "from oaklib.datamodels.vocabulary import IS_A, PART_OF, SEMAPV"
   ]
  },
  {
   "cell_type": "code",
   "execution_count": null,
   "id": "c3ed93e1-4484-4763-b541-a1f62a156c3a",
   "metadata": {},
   "outputs": [],
   "source": [
    "# NOT WORKING AS IS #\n",
    "\n",
    "# from pathlib import Path\n",
    "# from oaklib import get_adapter\n",
    "# from oaklib.mappers import OntologyMetadataMapper\n",
    "# from oaklib.datamodels.vocabulary import IS_A, PART_OF, SEMAPV\n",
    "\n",
    "\n",
    "# # Create a wrapper to connect to the mondo database. \n",
    "# db_path = Path.cwd().parents[1] / \"ontology/tmp/mondo-ingest.db\"\n",
    "# ontology_implementation = get_adapter(f\"sqlite:{db_path}\")\n",
    "\n",
    "\n",
    "# # Create a mapper\n",
    "# mapper = OntologyMetadataMapper([], curie_converter=ontology_implementation.converter)\n",
    "# mapper.use_skos_profile()\n",
    "# ontology_implementation.ontology_metamodel_mapper = mapper"
   ]
  },
  {
   "cell_type": "code",
   "execution_count": 3,
   "id": "a918642e",
   "metadata": {},
   "outputs": [],
   "source": [
    "# Fetch Mondo and test access to the SQLite version of the ontology\n",
    "# See: https://github.com/INCATools/semantic-sql#download-ready-made-sqlite-databases\n",
    "\n",
    "!semsql download mondo -o tmp/mondo.db"
   ]
  },
  {
   "cell_type": "code",
   "execution_count": null,
   "id": "bf191ce7",
   "metadata": {},
   "outputs": [],
   "source": [
    "# Check that database file exists\n",
    "#!ls -ltra tmp"
   ]
  },
  {
   "cell_type": "code",
   "execution_count": 4,
   "id": "59f525d4",
   "metadata": {},
   "outputs": [],
   "source": [
    "# Create a wrapper to connect to the mondo database\n",
    "\n",
    "db_path = \"./tmp/mondo.db\"\n",
    "adapter = get_adapter(f\"sqlite:{db_path}\")"
   ]
  },
  {
   "cell_type": "code",
   "execution_count": 5,
   "id": "45e925d0-960e-4907-8e77-774171b4a31d",
   "metadata": {},
   "outputs": [
    {
     "data": {
      "text/plain": [
       "{'id': ['obo:mondo.owl'],\n",
       " 'IAO:0000700': ['MONDO:0042489',\n",
       "  'MONDO:0021178',\n",
       "  'MONDO:0021125',\n",
       "  'MONDO:0000001'],\n",
       " 'dce:description': ['A semi-automatically constructed ontology that merges in multiple disease resources to yield a coherent merged ontology.'],\n",
       " 'dce:title': ['Mondo Disease Ontology'],\n",
       " 'dcterms:license': ['<http://creativecommons.org/licenses/by/4.0/>'],\n",
       " 'dcterms:source': ['<https://rarediseases.info.nih.gov/>',\n",
       "  '<https://id.nlm.nih.gov/mesh/>',\n",
       "  '<http://www.orpha.net/ontology/orphanet.owl>',\n",
       "  'obo:uberon.owl',\n",
       "  'obo:ncit.owl',\n",
       "  'obo:ncbitaxon.owl',\n",
       "  'obo:mf.owl',\n",
       "  'obo:hp.owl',\n",
       "  'obo:go.owl',\n",
       "  'obo:envo.owl',\n",
       "  'obo:doid.owl',\n",
       "  'obo:chebi.owl'],\n",
       " 'foaf:homepage': ['http://obofoundry.org/ontology/mondo.html'],\n",
       " 'oio:hasOBOFormatVersion': ['1.2'],\n",
       " 'owl:versionIRI': ['obo:mondo/releases/2023-09-12/mondo.owl'],\n",
       " 'rdf:type': ['owl:Ontology'],\n",
       " 'rdfs:comment': ['Includes Ontology(OntologyID(Anonymous-11)) [Axioms: 74703 Logical Axioms: 0]'],\n",
       " 'sh:prefix': ['obo'],\n",
       " 'schema:url': ['http://purl.obolibrary.org/obo/mondo.owl'],\n",
       " 'rdfs:isDefinedBy': ['http://purl.obolibrary.org/obo/obo.owl']}"
      ]
     },
     "metadata": {},
     "output_type": "display_data"
    }
   ],
   "source": [
    "# Get ontology metadata\n",
    "for ont in adapter.ontologies():\n",
    "    ontology_metadata = adapter.ontology_metadata_map(ont)\n",
    "\n",
    "# Display ontology metadata\n",
    "display(ontology_metadata)"
   ]
  },
  {
   "cell_type": "code",
   "execution_count": 6,
   "id": "4f1b73ea-f397-4220-9c44-3a44b766580b",
   "metadata": {},
   "outputs": [
    {
     "data": {
      "text/plain": [
       "53"
      ]
     },
     "metadata": {},
     "output_type": "display_data"
    },
    {
     "data": {
      "text/plain": [
       "{'MONDO:0000271',\n",
       " 'MONDO:0000368',\n",
       " 'MONDO:0000369',\n",
       " 'MONDO:0000813',\n",
       " 'MONDO:0001537',\n",
       " 'MONDO:0001678',\n",
       " 'MONDO:0002226',\n",
       " 'MONDO:0004189',\n",
       " 'MONDO:0004272',\n",
       " 'MONDO:0004517',\n",
       " 'MONDO:0005696',\n",
       " 'MONDO:0005768',\n",
       " 'MONDO:0005787',\n",
       " 'MONDO:0005819',\n",
       " 'MONDO:0005831',\n",
       " 'MONDO:0005848',\n",
       " 'MONDO:0005861',\n",
       " 'MONDO:0005887',\n",
       " 'MONDO:0005903',\n",
       " 'MONDO:0005922',\n",
       " 'MONDO:0005938',\n",
       " 'MONDO:0005962',\n",
       " 'MONDO:0005967',\n",
       " 'MONDO:0005999',\n",
       " 'MONDO:0006000',\n",
       " 'MONDO:0006002',\n",
       " 'MONDO:0006042',\n",
       " 'MONDO:0006052',\n",
       " 'MONDO:0006743',\n",
       " 'MONDO:0006838',\n",
       " 'MONDO:0006845',\n",
       " 'MONDO:0006876',\n",
       " 'MONDO:0018076',\n",
       " 'MONDO:0021804',\n",
       " 'MONDO:0021943',\n",
       " 'MONDO:0021948',\n",
       " 'MONDO:0021953',\n",
       " 'MONDO:0023153',\n",
       " 'MONDO:0040753',\n",
       " 'MONDO:0041806',\n",
       " 'MONDO:0043836',\n",
       " 'MONDO:0100479',\n",
       " 'MONDO:0100481',\n",
       " 'MONDO:0100482',\n",
       " 'MONDO:0100483',\n",
       " 'MONDO:0850417',\n",
       " 'MONDO:0957461',\n",
       " 'MONDO:0957462',\n",
       " 'MONDO:0957463',\n",
       " 'MONDO:0957464',\n",
       " 'MONDO:0957465',\n",
       " 'MONDO:0957466',\n",
       " 'MONDO:0957467'}"
      ]
     },
     "metadata": {},
     "output_type": "display_data"
    }
   ],
   "source": [
    "# Get all descendants for a CURIE\n",
    "curie = \"MONDO:0018076\"\n",
    "\n",
    "#NOTE: The input curie (e.g. \"MONDO:0018076\") is returned from this call\n",
    "all_descendants = set(adapter.descendants([curie], predicates=[IS_A]))\n",
    "display(len(all_descendants), all_descendants)\n",
    "\n",
    "\n",
    "# for entity in adapter.entities(filter_obsoletes=True, owl_type = \"owl:AnnotationProperty\"):\n",
    "#     display(entity)"
   ]
  },
  {
   "cell_type": "code",
   "execution_count": 7,
   "id": "d08d61f6",
   "metadata": {},
   "outputs": [
    {
     "data": {
      "text/plain": [
       "True"
      ]
     },
     "execution_count": 7,
     "metadata": {},
     "output_type": "execute_result"
    }
   ],
   "source": [
    "# View results for CURIE in OLS for comparison\n",
    "import webbrowser\n",
    "\n",
    "# convert curie to purl\n",
    "url = adapter.curie_to_uri(curie)\n",
    "\n",
    "# open ols browser page for purl\n",
    "webbrowser.open(url)"
   ]
  },
  {
   "cell_type": "code",
   "execution_count": 8,
   "id": "8cd025e2",
   "metadata": {},
   "outputs": [
    {
     "name": "stdout",
     "output_type": "stream",
     "text": [
      "MONDO:0005967 splenic tuberculosis\n",
      "MONDO:0002226 tuberculous oophoritis\n",
      "MONDO:0005787 hepatic tuberculosis\n",
      "MONDO:0957466 primary tuberculosis of the digestive system\n",
      "MONDO:0006845 male genital tuberculosis\n",
      "MONDO:0006042 meningeal tuberculosis\n",
      "MONDO:0006876 ocular tuberculosis\n",
      "MONDO:0006052 pulmonary tuberculosis\n",
      "MONDO:0005887 oral tuberculosis\n",
      "MONDO:0000271 tuberculous salpingitis\n",
      "MONDO:0005903 pericardial tuberculosis\n",
      "MONDO:0005831 lymph node tuberculosis\n",
      "MONDO:0021948 cutaneous tuberculosis\n",
      "MONDO:0100482 extensively drug-resistant tuberculosis\n",
      "MONDO:0021953 tuberculous fibrosis of lung\n",
      "MONDO:0000368 extrapulmonary tuberculosis\n",
      "MONDO:0100481 active tuberculosis\n",
      "MONDO:0005819 laryngeal tuberculosis\n",
      "MONDO:0005861 multidrug-resistant tuberculosis\n",
      "MONDO:0041806 drug-resistant tuberculosis\n",
      "MONDO:0018076 tuberculosis\n",
      "MONDO:0001537 tuberculous epididymitis\n",
      "MONDO:0005922 pleural tuberculosis\n",
      "MONDO:0957461 primary tuberculous lymphadenitis\n",
      "MONDO:0000369 abdominal tuberculosis\n",
      "MONDO:0040753 latent tuberculosis infection\n",
      "MONDO:0850417 tuberculous encephalopathy\n",
      "MONDO:0004272 urinary bladder tuberculosis\n",
      "MONDO:0005696 central nervous system tuberculosis\n",
      "MONDO:0004189 esophageal tuberculosis\n",
      "MONDO:0957464 primary cutaneous tuberculosis\n",
      "MONDO:0006002 urogenital tuberculosis\n",
      "MONDO:0021804 silicotuberculosis\n",
      "MONDO:0100479 rifampicin-resistant tuberculosis\n",
      "MONDO:0021943 tuberculoma\n",
      "MONDO:0006743 endocrine tuberculosis\n",
      "MONDO:0001678 intestinal tuberculosis\n",
      "MONDO:0005848 miliary tuberculosis\n",
      "MONDO:0005938 renal tuberculosis\n",
      "MONDO:0004517 ureter tuberculosis\n",
      "MONDO:0023153 tuberculous ascites\n",
      "MONDO:0957467 primary genito-urinary tuberculosis\n",
      "MONDO:0957465 multifocal tuberculosis\n",
      "MONDO:0043836 tuberculosis, spinal\n",
      "MONDO:0000813 cardiac tuberculosis\n",
      "MONDO:0100483 totally drug-resistant tuberculosis\n",
      "MONDO:0005962 skeletal tuberculosis\n",
      "MONDO:0005999 tuberculous empyema\n",
      "MONDO:0957463 primary bone and joint tuberculosis\n",
      "MONDO:0005768 gastrointestinal tuberculosis\n",
      "MONDO:0957462 primary pulmonary tuberculosis\n",
      "MONDO:0006838 lupus vulgaris\n",
      "MONDO:0006000 tuberculous peritonitis\n"
     ]
    }
   ],
   "source": [
    "# Get annotations for descendants\n",
    "\n",
    "for child in all_descendants:\n",
    "    print(child, adapter.label(child))"
   ]
  },
  {
   "cell_type": "code",
   "execution_count": 1,
   "id": "bd63a0a9-735d-40f4-90e8-7838ea63108d",
   "metadata": {},
   "outputs": [],
   "source": [
    "# Get Ancestors\n",
    "# TODO: Convert these to helper methods that can be called while traversing through list of parents or children\n",
    "\n",
    "# for anc in db_adapter.ancestors(\"MONDO:0018076\", predicates=[IS_A]):\n",
    "#     print(anc, db_adapter.label(anc))"
   ]
  },
  {
   "cell_type": "code",
   "execution_count": null,
   "id": "f021b76e",
   "metadata": {},
   "outputs": [],
   "source": []
  }
 ],
 "metadata": {
  "kernelspec": {
   "display_name": "Python 3 (ipykernel)",
   "language": "python",
   "name": "python3"
  },
  "language_info": {
   "codemirror_mode": {
    "name": "ipython",
    "version": 3
   },
   "file_extension": ".py",
   "mimetype": "text/x-python",
   "name": "python",
   "nbconvert_exporter": "python",
   "pygments_lexer": "ipython3",
   "version": "3.10.13"
  }
 },
 "nbformat": 4,
 "nbformat_minor": 5
}
