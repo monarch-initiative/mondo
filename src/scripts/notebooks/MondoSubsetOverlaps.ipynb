{
 "cells": [
  {
   "cell_type": "markdown",
   "id": "3265c99f-886f-4370-a33b-519775c8b8ce",
   "metadata": {},
   "source": [
    "## MondoSubsetOverlaps\n",
    "\n",
    "Determine the overlaps between Mondo subsets and the overall \"rare\" subset. \n",
    "Use Mondo release version v2025-04-01.\n",
    "\n",
    "The \"rare\" subset includes classes that have this annotation `http://purl.obolibrary.org/obo/mondo#rare` and the count of this subset is from the query `$(SPARQLDIR)/reports/COUNT-rare_subsets.sparql`/\n",
    "\n",
    "The other subsets of interest are: \n",
    "- cancer and count is from the query `$(SPARQLDIR)/reports/COUNT-human-cancer-diseases.sparql`\n",
    "- infectious disease and count is from the query `$(SPARQLDIR)/reports/COUNT-human_diseases_infectious.sparql`\n",
    "- mendelian and the count is from the query `$(SPARQLDIR)/reports/COUNT-human-genetic-diseases.sparql`\n"
   ]
  },
  {
   "cell_type": "code",
   "execution_count": 1,
   "id": "013fb619-208a-4697-b5aa-fd330a219094",
   "metadata": {},
   "outputs": [],
   "source": [
    "# Imports\n",
    "import pandas as pd\n",
    "import numpy as np\n",
    "#!pip install upsetplot\n",
    "\n",
    "pd.set_option('display.max_colwidth', None)"
   ]
  },
  {
   "cell_type": "code",
   "execution_count": 2,
   "id": "687514ad-4799-4116-9853-fd88409415f5",
   "metadata": {},
   "outputs": [],
   "source": [
    "# Get v2025-04-01 release version of Mondo\n",
    "\n",
    "#!wget -O mondo.owl https://github.com/monarch-initiative/mondo/releases/download/v2025-04-01/mondo.owl"
   ]
  },
  {
   "cell_type": "markdown",
   "id": "6e80c8f4-3c5f-4a83-a81f-5a25e9c8eabd",
   "metadata": {},
   "source": [
    "## Get data"
   ]
  },
  {
   "cell_type": "code",
   "execution_count": 3,
   "id": "e8529861-804a-4830-9b13-573a861cdc01",
   "metadata": {},
   "outputs": [],
   "source": [
    "# Get all rare disease CURIES\n",
    "\n",
    "!robot query --input mondo.owl --query ../../sparql/reports/get_rare_disease_curies.sparql rare_diseases.tsv"
   ]
  },
  {
   "cell_type": "code",
   "execution_count": 4,
   "id": "988072e8-b2c5-4517-9291-624e823c3946",
   "metadata": {},
   "outputs": [
    {
     "data": {
      "text/html": [
       "<div>\n",
       "<style scoped>\n",
       "    .dataframe tbody tr th:only-of-type {\n",
       "        vertical-align: middle;\n",
       "    }\n",
       "\n",
       "    .dataframe tbody tr th {\n",
       "        vertical-align: top;\n",
       "    }\n",
       "\n",
       "    .dataframe thead th {\n",
       "        text-align: right;\n",
       "    }\n",
       "</style>\n",
       "<table border=\"1\" class=\"dataframe\">\n",
       "  <thead>\n",
       "    <tr style=\"text-align: right;\">\n",
       "      <th></th>\n",
       "      <th>?curie</th>\n",
       "      <th>?label</th>\n",
       "    </tr>\n",
       "  </thead>\n",
       "  <tbody>\n",
       "    <tr>\n",
       "      <th>0</th>\n",
       "      <td>MONDO:0000005</td>\n",
       "      <td>alopecia, isolated</td>\n",
       "    </tr>\n",
       "    <tr>\n",
       "      <th>1</th>\n",
       "      <td>MONDO:0000009</td>\n",
       "      <td>inherited bleeding disorder, platelet-type</td>\n",
       "    </tr>\n",
       "    <tr>\n",
       "      <th>2</th>\n",
       "      <td>MONDO:0000014</td>\n",
       "      <td>colorblindness, partial</td>\n",
       "    </tr>\n",
       "    <tr>\n",
       "      <th>3</th>\n",
       "      <td>MONDO:0000015</td>\n",
       "      <td>classic complement early component deficiency</td>\n",
       "    </tr>\n",
       "    <tr>\n",
       "      <th>4</th>\n",
       "      <td>MONDO:0000023</td>\n",
       "      <td>infantile liver failure</td>\n",
       "    </tr>\n",
       "  </tbody>\n",
       "</table>\n",
       "</div>"
      ],
      "text/plain": [
       "          ?curie                                         ?label\n",
       "0  MONDO:0000005                             alopecia, isolated\n",
       "1  MONDO:0000009     inherited bleeding disorder, platelet-type\n",
       "2  MONDO:0000014                        colorblindness, partial\n",
       "3  MONDO:0000015  classic complement early component deficiency\n",
       "4  MONDO:0000023                        infantile liver failure"
      ]
     },
     "metadata": {},
     "output_type": "display_data"
    },
    {
     "data": {
      "text/plain": [
       "?curie    15679\n",
       "?label    15679\n",
       "dtype: int64"
      ]
     },
     "metadata": {},
     "output_type": "display_data"
    }
   ],
   "source": [
    "rare_df = pd.read_csv('rare_diseases.tsv', sep='\\t')\n",
    "display(rare_df.head())\n",
    "\n",
    "display(rare_df.nunique())"
   ]
  },
  {
   "cell_type": "code",
   "execution_count": 5,
   "id": "1c2e921b-7845-40a5-822e-1e003d1968a7",
   "metadata": {},
   "outputs": [],
   "source": [
    "# Get all cancer disease CURIEs\n",
    "\n",
    "!robot query --input mondo.owl --query ../../sparql/reports/get_human_cancer_disease_curies.sparql human_cancer_diseases.tsv"
   ]
  },
  {
   "cell_type": "code",
   "execution_count": 6,
   "id": "9ab35bc5-d688-4db2-9462-9e8948cb20ad",
   "metadata": {},
   "outputs": [
    {
     "data": {
      "text/html": [
       "<div>\n",
       "<style scoped>\n",
       "    .dataframe tbody tr th:only-of-type {\n",
       "        vertical-align: middle;\n",
       "    }\n",
       "\n",
       "    .dataframe tbody tr th {\n",
       "        vertical-align: top;\n",
       "    }\n",
       "\n",
       "    .dataframe thead th {\n",
       "        text-align: right;\n",
       "    }\n",
       "</style>\n",
       "<table border=\"1\" class=\"dataframe\">\n",
       "  <thead>\n",
       "    <tr style=\"text-align: right;\">\n",
       "      <th></th>\n",
       "      <th>?curie</th>\n",
       "      <th>?label</th>\n",
       "    </tr>\n",
       "  </thead>\n",
       "  <tbody>\n",
       "    <tr>\n",
       "      <th>0</th>\n",
       "      <td>MONDO:0000141</td>\n",
       "      <td>mosaic variegated aneuploidy syndrome</td>\n",
       "    </tr>\n",
       "    <tr>\n",
       "      <th>1</th>\n",
       "      <td>MONDO:0000147</td>\n",
       "      <td>polyposis</td>\n",
       "    </tr>\n",
       "    <tr>\n",
       "      <th>2</th>\n",
       "      <td>MONDO:0000371</td>\n",
       "      <td>oral cavity carcinoma in situ</td>\n",
       "    </tr>\n",
       "    <tr>\n",
       "      <th>3</th>\n",
       "      <td>MONDO:0000372</td>\n",
       "      <td>pharynx carcinoma in situ</td>\n",
       "    </tr>\n",
       "    <tr>\n",
       "      <th>4</th>\n",
       "      <td>MONDO:0000373</td>\n",
       "      <td>gall bladder carcinoma in situ</td>\n",
       "    </tr>\n",
       "  </tbody>\n",
       "</table>\n",
       "</div>"
      ],
      "text/plain": [
       "          ?curie                                 ?label\n",
       "0  MONDO:0000141  mosaic variegated aneuploidy syndrome\n",
       "1  MONDO:0000147                              polyposis\n",
       "2  MONDO:0000371          oral cavity carcinoma in situ\n",
       "3  MONDO:0000372              pharynx carcinoma in situ\n",
       "4  MONDO:0000373         gall bladder carcinoma in situ"
      ]
     },
     "metadata": {},
     "output_type": "display_data"
    },
    {
     "data": {
      "text/plain": [
       "?curie    4711\n",
       "?label    4711\n",
       "dtype: int64"
      ]
     },
     "metadata": {},
     "output_type": "display_data"
    }
   ],
   "source": [
    "human_cancer_df = pd.read_csv('human_cancer_diseases.tsv', sep='\\t')\n",
    "display(human_cancer_df.head())\n",
    "\n",
    "display(human_cancer_df.nunique())"
   ]
  },
  {
   "cell_type": "code",
   "execution_count": 7,
   "id": "5b9772ba-6623-41f2-bc07-a46d91d8c525",
   "metadata": {},
   "outputs": [],
   "source": [
    "# Get all infectious disease CURIEs\n",
    "\n",
    "!robot query --input mondo.owl --query ../../sparql/reports/get_human_infectious_disease_curies.sparql human_infectious_diseases.tsv"
   ]
  },
  {
   "cell_type": "code",
   "execution_count": 8,
   "id": "96f19891-915b-4793-b10a-5e44b17274fe",
   "metadata": {},
   "outputs": [
    {
     "data": {
      "text/html": [
       "<div>\n",
       "<style scoped>\n",
       "    .dataframe tbody tr th:only-of-type {\n",
       "        vertical-align: middle;\n",
       "    }\n",
       "\n",
       "    .dataframe tbody tr th {\n",
       "        vertical-align: top;\n",
       "    }\n",
       "\n",
       "    .dataframe thead th {\n",
       "        text-align: right;\n",
       "    }\n",
       "</style>\n",
       "<table border=\"1\" class=\"dataframe\">\n",
       "  <thead>\n",
       "    <tr style=\"text-align: right;\">\n",
       "      <th></th>\n",
       "      <th>?curie</th>\n",
       "      <th>?label</th>\n",
       "    </tr>\n",
       "  </thead>\n",
       "  <tbody>\n",
       "    <tr>\n",
       "      <th>0</th>\n",
       "      <td>MONDO:0000222</td>\n",
       "      <td>seminal vesicle acute gonorrhea</td>\n",
       "    </tr>\n",
       "    <tr>\n",
       "      <th>1</th>\n",
       "      <td>MONDO:0000225</td>\n",
       "      <td>human monocytic ehrlichiosis</td>\n",
       "    </tr>\n",
       "    <tr>\n",
       "      <th>2</th>\n",
       "      <td>MONDO:0000227</td>\n",
       "      <td>African tick-bite fever</td>\n",
       "    </tr>\n",
       "    <tr>\n",
       "      <th>3</th>\n",
       "      <td>MONDO:0000229</td>\n",
       "      <td>Indian tick typhus</td>\n",
       "    </tr>\n",
       "    <tr>\n",
       "      <th>4</th>\n",
       "      <td>MONDO:0000230</td>\n",
       "      <td>Israeli tick typhus</td>\n",
       "    </tr>\n",
       "  </tbody>\n",
       "</table>\n",
       "</div>"
      ],
      "text/plain": [
       "          ?curie                           ?label\n",
       "0  MONDO:0000222  seminal vesicle acute gonorrhea\n",
       "1  MONDO:0000225     human monocytic ehrlichiosis\n",
       "2  MONDO:0000227          African tick-bite fever\n",
       "3  MONDO:0000229               Indian tick typhus\n",
       "4  MONDO:0000230              Israeli tick typhus"
      ]
     },
     "metadata": {},
     "output_type": "display_data"
    },
    {
     "data": {
      "text/plain": [
       "?curie    1074\n",
       "?label    1074\n",
       "dtype: int64"
      ]
     },
     "metadata": {},
     "output_type": "display_data"
    }
   ],
   "source": [
    "human_infectious_df = pd.read_csv('human_infectious_diseases.tsv', sep='\\t')\n",
    "display(human_infectious_df.head())\n",
    "\n",
    "display(human_infectious_df.nunique())"
   ]
  },
  {
   "cell_type": "code",
   "execution_count": 9,
   "id": "7b4f2400-280a-4864-b9f1-f9468fc2733b",
   "metadata": {},
   "outputs": [],
   "source": [
    "# Get all mendelian disease CURIEs\n",
    "\n",
    "!robot query --input mondo.owl --query ../../sparql/reports/get_human_mendelian_disease_curies.sparql human_mendelian_diseases.tsv"
   ]
  },
  {
   "cell_type": "code",
   "execution_count": 10,
   "id": "50b6333f-c7e2-4dda-ba5b-6bfbdbd712b1",
   "metadata": {},
   "outputs": [
    {
     "data": {
      "text/html": [
       "<div>\n",
       "<style scoped>\n",
       "    .dataframe tbody tr th:only-of-type {\n",
       "        vertical-align: middle;\n",
       "    }\n",
       "\n",
       "    .dataframe tbody tr th {\n",
       "        vertical-align: top;\n",
       "    }\n",
       "\n",
       "    .dataframe thead th {\n",
       "        text-align: right;\n",
       "    }\n",
       "</style>\n",
       "<table border=\"1\" class=\"dataframe\">\n",
       "  <thead>\n",
       "    <tr style=\"text-align: right;\">\n",
       "      <th></th>\n",
       "      <th>?curie</th>\n",
       "      <th>?label</th>\n",
       "    </tr>\n",
       "  </thead>\n",
       "  <tbody>\n",
       "    <tr>\n",
       "      <th>0</th>\n",
       "      <td>MONDO:0000005</td>\n",
       "      <td>alopecia, isolated</td>\n",
       "    </tr>\n",
       "    <tr>\n",
       "      <th>1</th>\n",
       "      <td>MONDO:0000009</td>\n",
       "      <td>inherited bleeding disorder, platelet-type</td>\n",
       "    </tr>\n",
       "    <tr>\n",
       "      <th>2</th>\n",
       "      <td>MONDO:0000015</td>\n",
       "      <td>classic complement early component deficiency</td>\n",
       "    </tr>\n",
       "    <tr>\n",
       "      <th>3</th>\n",
       "      <td>MONDO:0000023</td>\n",
       "      <td>infantile liver failure</td>\n",
       "    </tr>\n",
       "    <tr>\n",
       "      <th>4</th>\n",
       "      <td>MONDO:0000030</td>\n",
       "      <td>sleep-related hypermotor epilepsy</td>\n",
       "    </tr>\n",
       "  </tbody>\n",
       "</table>\n",
       "</div>"
      ],
      "text/plain": [
       "          ?curie                                         ?label\n",
       "0  MONDO:0000005                             alopecia, isolated\n",
       "1  MONDO:0000009     inherited bleeding disorder, platelet-type\n",
       "2  MONDO:0000015  classic complement early component deficiency\n",
       "3  MONDO:0000023                        infantile liver failure\n",
       "4  MONDO:0000030              sleep-related hypermotor epilepsy"
      ]
     },
     "metadata": {},
     "output_type": "display_data"
    },
    {
     "data": {
      "text/plain": [
       "?curie    11517\n",
       "?label    11517\n",
       "dtype: int64"
      ]
     },
     "metadata": {},
     "output_type": "display_data"
    }
   ],
   "source": [
    "human_mendelian_df = pd.read_csv('human_mendelian_diseases.tsv', sep='\\t')\n",
    "display(human_mendelian_df.head())\n",
    "\n",
    "display(human_mendelian_df.nunique())\n"
   ]
  },
  {
   "cell_type": "markdown",
   "id": "f979083e-1849-48c8-9781-cf91d07f66b1",
   "metadata": {},
   "source": [
    "## Find the Overlaps and Plot"
   ]
  },
  {
   "cell_type": "code",
   "execution_count": 11,
   "id": "67f06c2e-a748-4fbf-923f-a7655c6b8c65",
   "metadata": {},
   "outputs": [],
   "source": [
    "# Find all the overlaps and get the counts \n",
    "\n",
    "set_mendelian = set(human_mendelian_df['?curie'].dropna())\n",
    "set_infectious = set(human_infectious_df['?curie'].dropna())\n",
    "set_cancer     = set(human_cancer_df['?curie'].dropna())\n",
    "set_rare       = set(rare_df['?curie'].dropna())\n"
   ]
  },
  {
   "cell_type": "code",
   "execution_count": 12,
   "id": "a1a90ddc-f52a-4105-b7e1-6da18c2ab8e7",
   "metadata": {},
   "outputs": [
    {
     "name": "stdout",
     "output_type": "stream",
     "text": [
      "Number of terms in mendelian_rare_only: 8911\n",
      "Number of terms in mendelian_cancer_only: 6\n",
      "Number of terms in mendelian_cancer_rare_only: 549\n",
      "Number of terms in cancer_rare_only: 2422\n",
      "Number of terms in infectious_rare_only: 507\n"
     ]
    }
   ],
   "source": [
    "# Terms common to all 4 sets\n",
    "common_all = set_mendelian & set_infectious & set_cancer & set_rare\n",
    "\n",
    "# Mendelian and Rare\n",
    "mendelian_rare_only = (set_mendelian & set_rare) - (set_infectious | set_cancer)\n",
    "print(f\"Number of terms in mendelian_rare_only: {len(mendelian_rare_only)}\")\n",
    "\n",
    "\n",
    "# Mendelian and Cancer\n",
    "mendelian_cancer_only = (set_mendelian & set_cancer) - (set_infectious | set_rare)\n",
    "print(f\"Number of terms in mendelian_cancer_only: {len(mendelian_cancer_only)}\")\n",
    "\n",
    "\n",
    "# Mendelian and Cancer and Rare\n",
    "mendelian_cancer_rare_only = (set_mendelian & set_cancer & set_rare) - (set_infectious)\n",
    "print(f\"Number of terms in mendelian_cancer_rare_only: {len(mendelian_cancer_rare_only)}\")\n",
    "\n",
    "\n",
    "# Cancer and Rare\n",
    "cancer_rare_only = (set_cancer & set_rare) - (set_infectious | set_mendelian)\n",
    "print(f\"Number of terms in cancer_rare_only: {len(cancer_rare_only)}\")\n",
    "\n",
    "\n",
    "# Infectious and Rare\n",
    "infectious_rare_only = (set_infectious & set_rare) - (set_cancer | set_mendelian)\n",
    "print(f\"Number of terms in infectious_rare_only: {len(infectious_rare_only)}\")"
   ]
  },
  {
   "cell_type": "code",
   "execution_count": 14,
   "id": "79035097-147a-4611-9010-741660052e31",
   "metadata": {},
   "outputs": [
    {
     "data": {
      "text/plain": [
       "<Figure size 1400x1200 with 0 Axes>"
      ]
     },
     "metadata": {},
     "output_type": "display_data"
    },
    {
     "data": {
      "image/png": "[encoded data removed]",
      "text/plain": [
       "<Figure size 844.444x444.444 with 4 Axes>"
      ]
     },
     "metadata": {},
     "output_type": "display_data"
    }
   ],
   "source": [
    "from upsetplot import UpSet, from_memberships, plot\n",
    "import pandas as pd\n",
    "import matplotlib.pyplot as plt\n",
    "import warnings\n",
    "warnings.simplefilter(action='ignore', category=FutureWarning)\n",
    "\n",
    "# Get all unique MONDO terms\n",
    "all_curie_values = set_mendelian | set_infectious | set_cancer | set_rare\n",
    "\n",
    "# Build membership tuples\n",
    "memberships = []\n",
    "for curie in all_curie_values:\n",
    "    member = []\n",
    "    if curie in set_mendelian:\n",
    "        member.append('Mendelian')\n",
    "    if curie in set_infectious:\n",
    "        member.append('Infectious')\n",
    "    if curie in set_cancer:\n",
    "        member.append('Cancer')\n",
    "    if curie in set_rare:\n",
    "        member.append('Rare')\n",
    "    memberships.append(tuple(member))\n",
    "\n",
    "# Count each membership\n",
    "membership_series = pd.Series(memberships).value_counts()\n",
    "\n",
    "# Create UpSet-compatible data\n",
    "data = from_memberships(membership_series.index, data=membership_series.values)\n",
    "\n",
    "# Plot\n",
    "plt.figure(figsize=(14, 12))\n",
    "UpSet(data, show_counts=True, show_percentages=False).plot()\n",
    "\n",
    "# Customize the plot after it’s built\n",
    "plt.xticks(rotation=45, ha='right', fontsize=10)\n",
    "\n",
    "# Save the figure\n",
    "output_path = \"upsetplot_disease_overlap.png\"\n",
    "plt.savefig(output_path, dpi=300, bbox_inches=\"tight\")\n",
    "\n",
    "# plt.title(\"UpSet Plot of MONDO Terms Across Disease Categories\")\n",
    "plt.show()\n"
   ]
  },
  {
   "cell_type": "code",
   "execution_count": null,
   "id": "a472adfc-985c-45c0-9c7c-f8ebc1d731ab",
   "metadata": {},
   "outputs": [],
   "source": []
  }
 ],
 "metadata": {
  "kernelspec": {
   "display_name": "Python 3 (ipykernel)",
   "language": "python",
   "name": "python3"
  },
  "language_info": {
   "codemirror_mode": {
    "name": "ipython",
    "version": 3
   },
   "file_extension": ".py",
   "mimetype": "text/x-python",
   "name": "python",
   "nbconvert_exporter": "python",
   "pygments_lexer": "ipython3",
   "version": "3.9.18"
  }
 },
 "nbformat": 4,
 "nbformat_minor": 5
}
